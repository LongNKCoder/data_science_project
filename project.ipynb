{
  "nbformat": 4,
  "nbformat_minor": 0,
  "metadata": {
    "orig_nbformat": 4,
    "language_info": {
      "name": "python",
      "version": "3.8.8"
    },
    "kernelspec": {
      "name": "python3",
      "display_name": "Python 3.8.8 64-bit ('base': conda)"
    },
    "interpreter": {
      "hash": "8cb87309e45d53dc7720d5577c41909a3e71d5c0117bb085ccdab64a082373ac"
    },
    "colab": {
      "name": "project.ipynb",
      "provenance": []
    }
  },
  "cells": [
    {
      "cell_type": "markdown",
      "metadata": {
        "id": "FWNfaemvShha"
      },
      "source": [
        "# Project phân tích các trận đấu cờ"
      ]
    },
    {
      "cell_type": "markdown",
      "metadata": {
        "id": "ke312WJ8Shhi"
      },
      "source": [
        "## Mục đích\n",
        "\n",
        "Nhằm giúp phân tích các game đấu và tăng sự cân bằng cũng như tăng sự công bằng cho các game đấu khi khi thi đâu xếp hạng."
      ]
    },
    {
      "cell_type": "code",
      "metadata": {
        "id": "9vDSgmYyShhj",
        "outputId": "3759b486-6d6a-4124-a166-f463f071a7a7",
        "colab": {
          "base_uri": "https://localhost:8080/"
        }
      },
      "source": [
        "def read_file(path: str):\n",
        "  print(path)\n",
        "  return\n",
        "read_file(\"hello\")"
      ],
      "execution_count": 2,
      "outputs": [
        {
          "output_type": "stream",
          "name": "stdout",
          "text": [
            "hello\n"
          ]
        }
      ]
    },
    {
      "cell_type": "code",
      "metadata": {
        "id": "UQXCNP2_Shhk"
      },
      "source": [
        ""
      ],
      "execution_count": null,
      "outputs": []
    }
  ]
}