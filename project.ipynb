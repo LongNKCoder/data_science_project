{
 "cells": [
  {
   "cell_type": "markdown",
   "source": [
    "# Project phân tích các trận đấu cờ"
   ],
   "metadata": {}
  },
  {
   "cell_type": "markdown",
   "source": [
    "## Mục đích\r\n",
    "\r\n",
    "Nhằm giúp phân tích các game đấu và tăng sự cân bằng cũng như tăng sự công bằng cho các game đấu khi khi thi đâu xếp hạng."
   ],
   "metadata": {}
  },
  {
   "cell_type": "code",
   "execution_count": null,
   "source": [
    "def read_file():\r\n",
    "    return"
   ],
   "outputs": [],
   "metadata": {}
  },
  {
   "cell_type": "code",
   "execution_count": null,
   "source": [],
   "outputs": [],
   "metadata": {}
  }
 ],
 "metadata": {
  "orig_nbformat": 4,
  "language_info": {
   "name": "python",
   "version": "3.8.8"
  },
  "kernelspec": {
   "name": "python3",
   "display_name": "Python 3.8.8 64-bit ('base': conda)"
  },
  "interpreter": {
   "hash": "8cb87309e45d53dc7720d5577c41909a3e71d5c0117bb085ccdab64a082373ac"
  }
 },
 "nbformat": 4,
 "nbformat_minor": 2
}